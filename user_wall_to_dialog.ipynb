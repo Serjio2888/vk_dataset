{
 "cells": [
  {
   "cell_type": "code",
   "execution_count": 1,
   "metadata": {},
   "outputs": [],
   "source": [
    "import pandas as pd"
   ]
  },
  {
   "cell_type": "code",
   "execution_count": 4,
   "metadata": {},
   "outputs": [],
   "source": [
    "posts = pd.read_csv('./test/posts.csv', index_col=0)\n",
    "comments = pd.read_csv('./test/comments.csv', index_col=0)\n",
    "answers = pd.read_csv('./test/answers.csv', index_col=0)"
   ]
  },
  {
   "cell_type": "code",
   "execution_count": 23,
   "metadata": {},
   "outputs": [
    {
     "data": {
      "text/html": [
       "<div>\n",
       "<style scoped>\n",
       "    .dataframe tbody tr th:only-of-type {\n",
       "        vertical-align: middle;\n",
       "    }\n",
       "\n",
       "    .dataframe tbody tr th {\n",
       "        vertical-align: top;\n",
       "    }\n",
       "\n",
       "    .dataframe thead th {\n",
       "        text-align: right;\n",
       "    }\n",
       "</style>\n",
       "<table border=\"1\" class=\"dataframe\">\n",
       "  <thead>\n",
       "    <tr style=\"text-align: right;\">\n",
       "      <th></th>\n",
       "      <th>from_id</th>\n",
       "      <th>num_comments</th>\n",
       "      <th>owner_id</th>\n",
       "      <th>post_id</th>\n",
       "      <th>reply_owner_id</th>\n",
       "      <th>reply_post_id</th>\n",
       "      <th>text</th>\n",
       "    </tr>\n",
       "  </thead>\n",
       "  <tbody>\n",
       "    <tr>\n",
       "      <th>0</th>\n",
       "      <td>31274240</td>\n",
       "      <td>2</td>\n",
       "      <td>31274240</td>\n",
       "      <td>6562</td>\n",
       "      <td>None</td>\n",
       "      <td>None</td>\n",
       "      <td>Забыл запостить бле!!!!</td>\n",
       "    </tr>\n",
       "  </tbody>\n",
       "</table>\n",
       "</div>"
      ],
      "text/plain": [
       "    from_id  num_comments  owner_id  post_id reply_owner_id reply_post_id  \\\n",
       "0  31274240             2  31274240     6562           None          None   \n",
       "\n",
       "                      text  \n",
       "0  Забыл запостить бле!!!!  "
      ]
     },
     "execution_count": 23,
     "metadata": {},
     "output_type": "execute_result"
    }
   ],
   "source": [
    "posts.replace({pd.np.NaN: None}, inplace=True)\n",
    "comments.replace({pd.np.NaN: None}, inplace=True)\n",
    "answers.replace({pd.np.NaN: None}, inplace=True)\n",
    "posts[posts['post_id'] == 6562]"
   ]
  },
  {
   "cell_type": "code",
   "execution_count": 37,
   "metadata": {},
   "outputs": [
    {
     "ename": "ValueError",
     "evalue": "bool cannot act on a non-boolean single element Series",
     "output_type": "error",
     "traceback": [
      "\u001b[0;31m---------------------------------------------------------------------------\u001b[0m",
      "\u001b[0;31mValueError\u001b[0m                                Traceback (most recent call last)",
      "\u001b[0;32m<ipython-input-37-5b1543f18d30>\u001b[0m in \u001b[0;36m<module>\u001b[0;34m()\u001b[0m\n\u001b[1;32m     13\u001b[0m         \u001b[0mpost_answers\u001b[0m \u001b[0;34m=\u001b[0m \u001b[0manswers\u001b[0m\u001b[0;34m[\u001b[0m\u001b[0manswers\u001b[0m\u001b[0;34m[\u001b[0m\u001b[0;34m'post_id'\u001b[0m\u001b[0;34m]\u001b[0m\u001b[0;34m==\u001b[0m\u001b[0mpost\u001b[0m\u001b[0;34m]\u001b[0m\u001b[0;34m\u001b[0m\u001b[0m\n\u001b[1;32m     14\u001b[0m \u001b[0;34m\u001b[0m\u001b[0m\n\u001b[0;32m---> 15\u001b[0;31m         \u001b[0manchor\u001b[0m \u001b[0;34m=\u001b[0m \u001b[0mpost_answers\u001b[0m\u001b[0;34m[\u001b[0m\u001b[0mpost_answers\u001b[0m\u001b[0;34m[\u001b[0m\u001b[0;34m'from_id'\u001b[0m\u001b[0;34m]\u001b[0m\u001b[0;34m==\u001b[0m\u001b[0muser\u001b[0m \u001b[0;34m&\u001b[0m \u001b[0mpost_answers\u001b[0m\u001b[0;34m[\u001b[0m\u001b[0;34m'reply_to_user'\u001b[0m\u001b[0;34m]\u001b[0m\u001b[0;34m.\u001b[0m\u001b[0mbool\u001b[0m\u001b[0;34m(\u001b[0m\u001b[0;34m)\u001b[0m\u001b[0;34m]\u001b[0m\u001b[0;34m.\u001b[0m\u001b[0mhead\u001b[0m\u001b[0;34m(\u001b[0m\u001b[0;36m1\u001b[0m\u001b[0;34m)\u001b[0m\u001b[0;34m\u001b[0m\u001b[0m\n\u001b[0m\u001b[1;32m     16\u001b[0m \u001b[0;34m\u001b[0m\u001b[0m\n\u001b[1;32m     17\u001b[0m         \u001b[0;32mif\u001b[0m \u001b[0;32mnot\u001b[0m \u001b[0manchor\u001b[0m\u001b[0;34m.\u001b[0m\u001b[0mempty\u001b[0m\u001b[0;34m:\u001b[0m\u001b[0;34m\u001b[0m\u001b[0m\n",
      "\u001b[0;32m~/anaconda3/lib/python3.7/site-packages/pandas/core/generic.py\u001b[0m in \u001b[0;36mbool\u001b[0;34m(self)\u001b[0m\n\u001b[1;32m   1587\u001b[0m         \u001b[0;32melif\u001b[0m \u001b[0mis_scalar\u001b[0m\u001b[0;34m(\u001b[0m\u001b[0mv\u001b[0m\u001b[0;34m)\u001b[0m\u001b[0;34m:\u001b[0m\u001b[0;34m\u001b[0m\u001b[0m\n\u001b[1;32m   1588\u001b[0m             raise ValueError(\"bool cannot act on a non-boolean single element \"\n\u001b[0;32m-> 1589\u001b[0;31m                              \"{0}\".format(self.__class__.__name__))\n\u001b[0m\u001b[1;32m   1590\u001b[0m \u001b[0;34m\u001b[0m\u001b[0m\n\u001b[1;32m   1591\u001b[0m         \u001b[0mself\u001b[0m\u001b[0;34m.\u001b[0m\u001b[0m__nonzero__\u001b[0m\u001b[0;34m(\u001b[0m\u001b[0;34m)\u001b[0m\u001b[0;34m\u001b[0m\u001b[0m\n",
      "\u001b[0;31mValueError\u001b[0m: bool cannot act on a non-boolean single element Series"
     ]
    }
   ],
   "source": [
    "dialogs = []\n",
    "#расмотри ситуацию когда пользователь ответил в комментариях кому-то\n",
    "#тогда диалог будет строить так\n",
    "#найдем комментарий где пользователь обратился к кому-то\n",
    "#найдем комментарий к кому он обратился\n",
    "#найдем последующую историю переписки\n",
    "\n",
    "for user in posts['owner_id'].drop_duplicates():\n",
    "    user_posts = posts[posts['owner_id'] == user]\n",
    "    for post in user_posts['post_id'].drop_duplicates():\n",
    "        dialog = \"\"\n",
    "        post_comments = comments[comments['post_id']==post]\n",
    "        post_answers = answers[answers['post_id']==post]\n",
    "        \n",
    "        anchor = post_answers[post_answers['from_id']==user & post_answers['reply_to_user'].bool()].head(1)\n",
    "        \n",
    "        if not anchor.empty:\n",
    "            print(anchor)\n",
    "            if post_comments[post_comments['comment_id'] == int(anchor['reply_to_comment'])]:\n",
    "                first = post_comments[post_comments['comment_id'] == anchor['reply_to_comment']].head(1)\n",
    "            elif post_answers[post_answers['comment_id'] == int(anchor['reply_to_comment'])]:\n",
    "                first = post_answers[post_answers['comment_id'] == anchor['reply_to_comment']].head(1)\n",
    "            else:\n",
    "                continue\n",
    "\n",
    "            dialog += first['text'] + '\\n'\n",
    "            dialog += anchor['text'] + '\\n'\n",
    "\n",
    "            prev = anchor\n",
    "            for ans in post_answers.iterrows():\n",
    "                if ans['reply_to_comment'] == prev['comment_id']:\n",
    "                    dialog += ans['text'] + '\\n'\n",
    "                    prev = ans\n",
    "            dialogs.append(dialog)"
   ]
  },
  {
   "cell_type": "code",
   "execution_count": null,
   "metadata": {},
   "outputs": [],
   "source": []
  }
 ],
 "metadata": {
  "kernelspec": {
   "display_name": "Python 3",
   "language": "python",
   "name": "python3"
  },
  "language_info": {
   "codemirror_mode": {
    "name": "ipython",
    "version": 3
   },
   "file_extension": ".py",
   "mimetype": "text/x-python",
   "name": "python",
   "nbconvert_exporter": "python",
   "pygments_lexer": "ipython3",
   "version": "3.7.0"
  }
 },
 "nbformat": 4,
 "nbformat_minor": 2
}
