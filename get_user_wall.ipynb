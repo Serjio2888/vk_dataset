{
 "cells": [
  {
   "cell_type": "code",
   "execution_count": 1,
   "metadata": {},
   "outputs": [
    {
     "ename": "ModuleNotFoundError",
     "evalue": "No module named 'vk'",
     "output_type": "error",
     "traceback": [
      "\u001b[0;31m---------------------------------------------------------------------------\u001b[0m",
      "\u001b[0;31mModuleNotFoundError\u001b[0m                       Traceback (most recent call last)",
      "\u001b[0;32m<ipython-input-1-a949443ff6ed>\u001b[0m in \u001b[0;36m<module>\u001b[0;34m\u001b[0m\n\u001b[0;32m----> 1\u001b[0;31m \u001b[0;32mimport\u001b[0m \u001b[0mvk\u001b[0m\u001b[0;34m\u001b[0m\u001b[0;34m\u001b[0m\u001b[0m\n\u001b[0m\u001b[1;32m      2\u001b[0m \u001b[0;32mimport\u001b[0m \u001b[0mtime\u001b[0m\u001b[0;34m\u001b[0m\u001b[0;34m\u001b[0m\u001b[0m\n\u001b[1;32m      3\u001b[0m \u001b[0;32mimport\u001b[0m \u001b[0mpandas\u001b[0m \u001b[0;32mas\u001b[0m \u001b[0mpd\u001b[0m\u001b[0;34m\u001b[0m\u001b[0;34m\u001b[0m\u001b[0m\n",
      "\u001b[0;31mModuleNotFoundError\u001b[0m: No module named 'vk'"
     ]
    }
   ],
   "source": [
    "import vk\n",
    "import time\n",
    "import pandas as pd"
   ]
  },
  {
   "cell_type": "code",
   "execution_count": null,
   "metadata": {},
   "outputs": [],
   "source": [
    "API_VERSION = 5.92\n",
    "ACCESS_TOKEN = '97d85c5486152c193dce1af34b159ec4097c76cc79dffc2c1dba7db1254081c34b647401ad2ba5b0b5692'\n",
    "SCOPE = 'users,wall'\n",
    "COUNT_PER_REQUEST=100"
   ]
  },
  {
   "cell_type": "code",
   "execution_count": null,
   "metadata": {},
   "outputs": [],
   "source": [
    "def parse_user_wall(response):\n",
    "    res = []\n",
    "    for item in response['items']:\n",
    "        if item.get('deleted'):\n",
    "            continue\n",
    "        res.append({\n",
    "            'post_id': item['id'],\\\n",
    "            'owner_id': item['owner_id'],\\\n",
    "            'from_id': item['from_id'],\\\n",
    "            'text': item.get('text'),\\\n",
    "            'reply_owner_id': item.get('reply_owner_id'),\\\n",
    "            'reply_post_id': item.get('reply_post_id'),\\\n",
    "            'num_comments': item.get('comments')['count'] if item.get('comments') else 0,\\\n",
    "            'date': item.get('date')\n",
    "        })\n",
    "    return res\n",
    "\n",
    "def get_user_wall(vk_api, user_id, timeout=0.5, max_count=1000):\n",
    "    wall = []\n",
    "    response = vk_api.wall.get(owner_id=user_id,\\\n",
    "                                   offset=0,\\\n",
    "                                   count=COUNT_PER_REQUEST,\\\n",
    "                                   v=API_VERSION)\n",
    "    wall.extend(parse_user_wall(response))\n",
    "    time.sleep(timeout)\n",
    "    #добираем оставшиеся записи\n",
    "    num_wall = response['count']\n",
    "    for offset in range(COUNT_PER_REQUEST,\\\n",
    "                            min(COUNT_PER_REQUEST*((num_wall//COUNT_PER_REQUEST)+1), max_count),\\\n",
    "                            COUNT_PER_REQUEST):\n",
    "        response = vk_api.wall.get(owner_id=user_id,\\\n",
    "                                       offset=offset,\\\n",
    "                                       count=COUNT_PER_REQUEST,\\\n",
    "                                       v=API_VERSION)\n",
    "        wall.extend(parse_user_wall(response)) \n",
    "        time.sleep(timeout)\n",
    "    return wall"
   ]
  },
  {
   "cell_type": "code",
   "execution_count": null,
   "metadata": {},
   "outputs": [],
   "source": [
    "def parse_comment_post(response):\n",
    "    res = []\n",
    "    for item in response['items']:\n",
    "        if item.get('deleted'):\n",
    "            continue\n",
    "        res.append({\n",
    "            'post_id': item['post_id'],\\\n",
    "            'owner_id': item['owner_id'],\\\n",
    "            'comment_id': item['id'],\\\n",
    "            'from_id': item['from_id'],\\\n",
    "            'text': item.get('text'),\\\n",
    "            'reply_to_user': item.get('reply_to_user'),\\\n",
    "            'reply_to_comment': item.get('reply_to_comment'),\\\n",
    "            'parents_stack': item.get('parents_stack'),\\\n",
    "            'num_answer': item.get('thread')['count'] if item.get('thread') else 0,\\\n",
    "            'date': item.get('date')\n",
    "        })\n",
    "    return res\n",
    "    \n",
    "def get_comment_post(vk_api, post, timeout=0.5, max_count=1000):\n",
    "    if post['num_comments'] == 0:\n",
    "        return []\n",
    "    comments = []\n",
    "    response = vk_api.wall.getComments(owner_id=post['owner_id'],\\\n",
    "                                           post_id=post['post_id'],\\\n",
    "                                           offset=0,\\\n",
    "                                           count=COUNT_PER_REQUEST,\\\n",
    "                                           v=API_VERSION)\n",
    "    comments.extend(parse_comment_post(response))\n",
    "    time.sleep(timeout)\n",
    "    #добираем оставшиеся\n",
    "    num_comments = response['count']\n",
    "    for offset in range(COUNT_PER_REQUEST,\\\n",
    "                            min(COUNT_PER_REQUEST*((num_comments//COUNT_PER_REQUEST)+1), max_count),\\\n",
    "                            COUNT_PER_REQUEST):\n",
    "        response = vk_api.wall.getComments(owner_id=post['owner_id'],\\\n",
    "                                               post_id=post['post_id'],\\\n",
    "                                               offset=offset,\\\n",
    "                                               count=COUNT_PER_REQUEST,\\\n",
    "                                               v=API_VERSION)\n",
    "        comments.extend(parse_comment_post(response))\n",
    "        time.sleep(timeout)\n",
    "    return comments"
   ]
  },
  {
   "cell_type": "code",
   "execution_count": null,
   "metadata": {},
   "outputs": [],
   "source": [
    "def get_answer_comment(vk_api, comment, timeout=0.5, max_count=1000):\n",
    "    if comment['num_answer'] == 0:\n",
    "        return []\n",
    "    answers = []\n",
    "    response = vk_api.wall.getComments(owner_id=comment['owner_id'],\\\n",
    "                                           post_id=comment['post_id'],\\\n",
    "                                           offset=0,\\\n",
    "                                           count=COUNT_PER_REQUEST,\\\n",
    "                                           comment_id=comment['comment_id'],\\\n",
    "                                           v=API_VERSION)\n",
    "    answers.extend(parse_comment_post(response))\n",
    "    time.sleep(timeout)\n",
    "    #добираем оставшиеся\n",
    "    num_answers = response['count']\n",
    "    for offset in range(COUNT_PER_REQUEST,\\\n",
    "                            min(COUNT_PER_REQUEST*((num_answers//COUNT_PER_REQUEST)+1), max_count),\\\n",
    "                            COUNT_PER_REQUEST):\n",
    "        response = vk_api.wall.getComments(owner_id=comment['owner_id'],\\\n",
    "                                           post_id=comment['post_id'],\\\n",
    "                                           offset=offset,\\\n",
    "                                           count=COUNT_PER_REQUEST,\\\n",
    "                                           comment_id=comment['comment_id'],\\\n",
    "                                           v=API_VERSION)\n",
    "        answers.extend(parse_comment_post(response))\n",
    "        time.sleep(timeout)\n",
    "    return answers"
   ]
  },
  {
   "cell_type": "code",
   "execution_count": null,
   "metadata": {
    "scrolled": true
   },
   "outputs": [],
   "source": [
    "from json import JSONDecoder\n",
    "\n",
    "all_posts = []\n",
    "all_comments = []\n",
    "all_answers = []\n",
    "\n",
    "def main(path_to_filtered_users, last_preprocessed_user):\n",
    "    #загрузка юзеров\n",
    "    j = JSONDecoder()\n",
    "    users = j.decode(open(path_to_filtered_users, 'r').read())\n",
    "    users = list(map(int, users))\n",
    "    #задание сессии\n",
    "    session = vk.Session(access_token=ACCESS_TOKEN)\n",
    "    vk_api = vk.API(session, scope=SCOPE)\n",
    "    #поиск данных\n",
    "    for num, user in enumerate(users):\n",
    "        if user > last_preprocessed_user:\n",
    "            if num % 100 == 0:\n",
    "                print(user)\n",
    "            try:\n",
    "                posts = get_user_wall(vk_api=vk_api, user_id=user, timeout=0.34)\n",
    "                comments = []\n",
    "                for post in posts:\n",
    "                    comments.extend(get_comment_post(vk_api=vk_api, post=post, timeout=0.34))\n",
    "                answers = []\n",
    "                for comment in comments:\n",
    "                    answers.extend(get_answer_comment(vk_api=vk_api, comment=comment, timeout=0.34))\n",
    "                all_posts.extend(posts)\n",
    "                all_comments.extend(comments)\n",
    "                all_answers.extend(answers)\n",
    "            except Exception as e:\n",
    "                print(e)"
   ]
  },
  {
   "cell_type": "code",
   "execution_count": null,
   "metadata": {},
   "outputs": [],
   "source": [
    "#last: 1125876\n",
    "all_posts = []\n",
    "all_comments = []\n",
    "all_answers = []\n",
    "main('./filtered_users/21.02.19-12:08_girl.json', 1125876)\n",
    "pd.DataFrame(all_posts).to_csv('./wall/girl_wall/posts/28.02.19-13:21_girl.csv')\n",
    "pd.DataFrame(all_comments).to_csv('./wall/girl_wall/comments/28.02.19-13:21_girl.csv')\n",
    "pd.DataFrame(all_answers).to_csv('./wall/girl_wall/answers/28.02.19-13:21_girl.csv')"
   ]
  },
  {
   "cell_type": "code",
   "execution_count": null,
   "metadata": {},
   "outputs": [],
   "source": [
    "all_posts = []\n",
    "all_comments = []\n",
    "all_answers = []\n",
    "main('./filtered_users/21.02.19-12:08_pop.json')\n",
    "pd.DataFrame(all_posts).to_csv('./wall/pop_wall/posts/21.02.19-12:08_pop.csv')\n",
    "pd.DataFrame(all_comments).to_csv('./wall/pop_wall/comments/21.02.19-12:08_pop.csv')\n",
    "pd.DataFrame(all_answers).to_csv('./wall/pop_wall/answers/21.02.19-12:08_pop.csv')"
   ]
  },
  {
   "cell_type": "code",
   "execution_count": null,
   "metadata": {},
   "outputs": [],
   "source": []
  }
 ],
 "metadata": {
  "kernelspec": {
   "display_name": "Python 3",
   "language": "python",
   "name": "python3"
  },
  "language_info": {
   "codemirror_mode": {
    "name": "ipython",
    "version": 3
   },
   "file_extension": ".py",
   "mimetype": "text/x-python",
   "name": "python",
   "nbconvert_exporter": "python",
   "pygments_lexer": "ipython3",
   "version": "3.7.1"
  }
 },
 "nbformat": 4,
 "nbformat_minor": 2
}
