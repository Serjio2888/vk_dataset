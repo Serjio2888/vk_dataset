{
 "cells": [
  {
   "cell_type": "code",
   "execution_count": 3,
   "metadata": {},
   "outputs": [],
   "source": [
    "import scripts.wall_to_json as s"
   ]
  },
  {
   "cell_type": "code",
   "execution_count": null,
   "metadata": {},
   "outputs": [],
   "source": [
    "def get_dialogs_from_answers():\n",
    "    from json import JSONDecoder\n",
    "    j = JSONDecoder()\n",
    "    \n",
    "    already_used_id = []\n",
    "    dialogs = []\n",
    "\n",
    "    answers = source_answers.copy()\n",
    "    anchor = answers[list(map(lambda x: x!='[]', answers['parents_stack']))].head(1)\n",
    "    while not anchor.empty:\n",
    "        dialog = []\n",
    "        already_used_id.append(int(anchor['comment_id']))\n",
    "\n",
    "        parent_id = j.decode(answers['parents_stack'].iloc[0])[0]\n",
    "        dialog.append(source_comments[source_comments['comment_id'] == parent_id].head(1))\n",
    "        dialog.append(anchor)\n",
    "\n",
    "        after_anchor = answers[answers['reply_to_comment'] == int(anchor['comment_id'])].head(1)\n",
    "        while not after_anchor.empty:\n",
    "            anchor = after_anchor\n",
    "            already_used_id.append(anchor['comment_id'])\n",
    "            dialog.append(anchor)\n",
    "            after_anchor = answers[answers['reply_to_comment'] == int(anchor['comment_id'])].head(1)\n",
    "\n",
    "        if len(pd.concat(dialog)) > 1:\n",
    "            dialogs.append(pd.concat(dialog))\n",
    "\n",
    "        answers = answers[~answers['comment_id'].isin(already_used_id)]\n",
    "        anchor = answers[list(map(bool, answers['parents_stack']))].head(1)\n",
    "    return dialogs"
   ]
  }
 ],
 "metadata": {
  "kernelspec": {
   "display_name": "Python 3",
   "language": "python",
   "name": "python3"
  },
  "language_info": {
   "codemirror_mode": {
    "name": "ipython",
    "version": 3
   },
   "file_extension": ".py",
   "mimetype": "text/x-python",
   "name": "python",
   "nbconvert_exporter": "python",
   "pygments_lexer": "ipython3",
   "version": "3.6.7"
  }
 },
 "nbformat": 4,
 "nbformat_minor": 2
}
