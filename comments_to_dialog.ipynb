{
 "cells": [
  {
   "cell_type": "code",
   "execution_count": null,
   "metadata": {},
   "outputs": [],
   "source": [
    "import pandas as pd"
   ]
  },
  {
   "cell_type": "code",
   "execution_count": null,
   "metadata": {},
   "outputs": [],
   "source": [
    "source_comments = pd.read_csv('./wall/girl_wall/comments/test_20.02.19-13:49_girl.csv', index_col=0)\n",
    "source_answers = pd.read_csv('./wall/girl_wall/answers/test_20.02.19-13:49_girl.csv', index_col=0)\n",
    "source_posts = pd.read_csv('./wall/girl_wall/posts/test_20.02.19-13:49_girl.csv', index_col=0)\n",
    "source_comments.replace({pd.np.NaN: None}, inplace=True)\n",
    "source_answers.replace({pd.np.NaN: None}, inplace=True)\n",
    "source_posts.replace({pd.np.NaN: None}, inplace=True)\n",
    "source_comments.head()"
   ]
  },
  {
   "cell_type": "code",
   "execution_count": null,
   "metadata": {},
   "outputs": [],
   "source": [
    "source_comments.sort_values(by=['post_id', 'date'] , inplace=True)\n",
    "source_comments.head()"
   ]
  },
  {
   "cell_type": "code",
   "execution_count": null,
   "metadata": {},
   "outputs": [],
   "source": [
    "#only 2 users\n",
    "already_used_id = []\n",
    "dialogs = []\n",
    "comments = source_comments.copy()\n",
    "#loop across comments\n",
    "#dialog = []\n",
    "#comments = comments[~comments['comment_id'].isin(already_used_id)]\n",
    "#anchor = comments[list(map(bool, comments['reply_to_comment']))].head(1)\n",
    "#already_used_id.append(int(anchor['comment_id']))\n",
    "#first = comments[comments['comment_id'] == int(anchor['reply_to_comment'])]\n",
    "#dialog.append(first)\n",
    "#dialog.append(anchor)\n",
    "#after_anchor = comments[comments['reply_to_comment'] == int(anchor['comment_id'])].head(1)\n",
    "#while(not after_anchor.dropna().empty):\n",
    "#    anchor = after_anchor\n",
    "#    already_used_id.append(int(anchor['comment_id']))\n",
    "#    dialog.append(anchor)\n",
    "#    after_anchor = comments[comments['reply_to_comment'] == int(anchor['comment_id'])].head(1)\n",
    "    \n",
    "\n",
    "comments = comments[~comments['comment_id'].isin(already_used_id)]\n",
    "anchor = comments[list(map(bool, comments['reply_to_comment']))].head(1)\n",
    "while(not anchor['reply_to_comment'].dropna().empty):\n",
    "    dialog = []\n",
    "    comments = comments[~comments['comment_id'].isin(already_used_id)]\n",
    "    anchor = comments[list(map(bool, comments['reply_to_comment']))].head(1)\n",
    "    already_used_id.append(int(anchor['comment_id']))\n",
    "    first = comments[comments['comment_id'] == int(anchor['reply_to_comment'])].head(1)\n",
    "    dialog.append(first)\n",
    "    dialog.append(anchor)\n",
    "    after_anchor = comments[comments['reply_to_comment'] == int(anchor['comment_id'])].head(1)\n",
    "    filter_user = (comments['from_id'] == int(anchor['reply_to_user']))\\\n",
    "                    | (comments['from_id'] == int(anchor['from_id']))\n",
    "    filter_post = comments['post_id'] == int(anchor['post_id'])\n",
    "    while(not after_anchor.dropna().empty):\n",
    "        anchor = after_anchor\n",
    "        already_used_id.append(int(anchor['comment_id']))\n",
    "        dialog.append(anchor)\n",
    "        filter_reply = comments['reply_to_comment'] == int(anchor['comment_id'])\n",
    "        after_anchor = comments[filter_reply & filter_user & filter_post].head(1)\n",
    "        \n",
    "    if len(pd.concat(dialog)) > 1:\n",
    "        dialogs.append(pd.concat(dialog))\n",
    "    comments = comments[~comments['comment_id'].isin(already_used_id)]\n",
    "    anchor = comments[list(map(bool, comments['reply_to_comment']))].head(1)"
   ]
  },
  {
   "cell_type": "code",
   "execution_count": null,
   "metadata": {},
   "outputs": [],
   "source": [
    "def post_processing(dialogs):\n",
    "    res=[]\n",
    "    dialog=[]\n",
    "    dialog.append(dialogs[0])\n",
    "    for cur in dialogs[1:]:\n",
    "        if set(dialog[-1]['from_id']) == set(cur['from_id'])\\\n",
    "            and set(dialog[-1]['post_id']) == set(cur['post_id']):\n",
    "            dialog.append(cur)\n",
    "        else:\n",
    "            res.append(pd.concat(dialog))\n",
    "            dialog=[cur]\n",
    "    return res"
   ]
  },
  {
   "cell_type": "code",
   "execution_count": null,
   "metadata": {},
   "outputs": [],
   "source": [
    "dialogs = post_processing(dialogs)"
   ]
  },
  {
   "cell_type": "code",
   "execution_count": null,
   "metadata": {},
   "outputs": [],
   "source": []
  },
  {
   "cell_type": "code",
   "execution_count": null,
   "metadata": {},
   "outputs": [],
   "source": []
  },
  {
   "cell_type": "code",
   "execution_count": null,
   "metadata": {},
   "outputs": [],
   "source": [
    "def view_dialog(table):\n",
    "    if len(table) > 1:\n",
    "        res = []\n",
    "        for _, i in table.iterrows():\n",
    "            if i['text']:\n",
    "                res.append(i['text'])\n",
    "            else:\n",
    "                return\n",
    "        return res"
   ]
  },
  {
   "cell_type": "code",
   "execution_count": null,
   "metadata": {},
   "outputs": [],
   "source": [
    "with open('./view_only2users_and_post_proc.txt', 'w') as fw:\n",
    "    for num, i in enumerate(dialogs):\n",
    "        a = view_dialog(i)\n",
    "        if a:\n",
    "            for line in a:\n",
    "                fw.write(line+'\\n')\n",
    "        fw.write(str(num)+\"   \"+'*'*10+'\\n\\n\\n\\n'+\"*\"*10+'\\n')"
   ]
  }
 ],
 "metadata": {
  "kernelspec": {
   "display_name": "Python 3",
   "language": "python",
   "name": "python3"
  },
  "language_info": {
   "codemirror_mode": {
    "name": "ipython",
    "version": 3
   },
   "file_extension": ".py",
   "mimetype": "text/x-python",
   "name": "python",
   "nbconvert_exporter": "python",
   "pygments_lexer": "ipython3",
   "version": "3.7.0"
  }
 },
 "nbformat": 4,
 "nbformat_minor": 2
}
