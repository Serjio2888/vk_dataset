{
 "cells": [
  {
   "cell_type": "code",
   "execution_count": 1,
   "metadata": {},
   "outputs": [],
   "source": [
    "import json"
   ]
  },
  {
   "cell_type": "code",
   "execution_count": 2,
   "metadata": {},
   "outputs": [],
   "source": [
    "import pandas as pd"
   ]
  },
  {
   "cell_type": "code",
   "execution_count": 3,
   "metadata": {},
   "outputs": [],
   "source": [
    "    FILE_NAME = \"14.03.19-14:16\"\n",
    "    source_comments = pd.read_csv(f'./wall/girl_wall/comments/{FILE_NAME}.csv', index_col=0)\n",
    "    source_answers = pd.read_csv(f'./wall/girl_wall/answers/{FILE_NAME}.csv', index_col=0)\n",
    "    source_posts = pd.read_csv(f'./wall/girl_wall/posts/{FILE_NAME}.csv', index_col=0)\n",
    "    source_answers = source_answers.loc[:, ~source_answers.columns.str.contains('^Unnamed')]\n",
    "    source_comments = source_comments.loc[:, ~source_comments.columns.str.contains('^Unnamed')]\n",
    "    source_posts = source_posts.loc[:, ~source_posts.columns.str.contains('^Unnamed')]\n",
    "    source_comments.replace({pd.np.NaN: None}, inplace=True)\n",
    "    source_answers.replace({pd.np.NaN: None}, inplace=True)\n",
    "    source_posts.replace({pd.np.NaN: None}, inplace=True)\n",
    "    source_comments.drop_duplicates(inplace=True)\n",
    "    source_answers.drop_duplicates(inplace=True)\n",
    "    source_posts.drop_duplicates(inplace=True)\n",
    "    source_comments.sort_values(by=['post_id', 'owner_id', 'date'], inplace=True)\n",
    "    source_answers.sort_values(by=['post_id', 'owner_id', 'date'], inplace=True)"
   ]
  },
  {
   "cell_type": "code",
   "execution_count": 4,
   "metadata": {},
   "outputs": [],
   "source": [
    "import scripts.wall_answers_to_dialogs as ans2dialog"
   ]
  },
  {
   "cell_type": "code",
   "execution_count": 5,
   "metadata": {},
   "outputs": [
    {
     "data": {
      "text/plain": [
       "['date',\n",
       " 'from_id',\n",
       " 'num_comments',\n",
       " 'owner_id',\n",
       " 'post_id',\n",
       " 'reply_owner_id',\n",
       " 'reply_post_id',\n",
       " 'text']"
      ]
     },
     "execution_count": 5,
     "metadata": {},
     "output_type": "execute_result"
    }
   ],
   "source": [
    "[i for i in source_posts]"
   ]
  },
  {
   "cell_type": "code",
   "execution_count": 6,
   "metadata": {},
   "outputs": [],
   "source": [
    "result = ans2dialog.get_dialogs_from_answers(source_answers, source_comments, None)"
   ]
  },
  {
   "cell_type": "code",
   "execution_count": 7,
   "metadata": {},
   "outputs": [],
   "source": [
    "with open('./result.txt', 'w') as f:\n",
    "    for num, dialog in enumerate(result):\n",
    "        f.write(str(num)+\" \"+'\\n')\n",
    "        for _, row in pd.concat(dialog).iterrows():\n",
    "            f.write(str(row['text'])+'\\n')\n",
    "        f.write('\\n')"
   ]
  },
  {
   "cell_type": "code",
   "execution_count": 9,
   "metadata": {},
   "outputs": [],
   "source": [
    "post_result = ans2dialog.post_process_dialogs_from_answers(result)"
   ]
  },
  {
   "cell_type": "code",
   "execution_count": 16,
   "metadata": {},
   "outputs": [],
   "source": [
    "pd_result = list(map(lambda x: pd.concat(x), result))"
   ]
  },
  {
   "cell_type": "code",
   "execution_count": 17,
   "metadata": {},
   "outputs": [
    {
     "data": {
      "text/plain": [
       "pandas.core.frame.DataFrame"
      ]
     },
     "execution_count": 17,
     "metadata": {},
     "output_type": "execute_result"
    }
   ],
   "source": [
    "type(pd_result[0])"
   ]
  },
  {
   "cell_type": "code",
   "execution_count": 18,
   "metadata": {},
   "outputs": [
    {
     "data": {
      "text/plain": [
       "{1, 2, 9}"
      ]
     },
     "execution_count": 18,
     "metadata": {},
     "output_type": "execute_result"
    }
   ],
   "source": [
    "set(map(lambda x: len(set(x['from_id'])), post_result))"
   ]
  },
  {
   "cell_type": "code",
   "execution_count": 20,
   "metadata": {},
   "outputs": [
    {
     "data": {
      "text/plain": [
       "{1, 2, 11}"
      ]
     },
     "execution_count": 20,
     "metadata": {},
     "output_type": "execute_result"
    }
   ],
   "source": [
    "set(map(lambda x: len(set(x['from_id'])), pd_result))"
   ]
  },
  {
   "cell_type": "code",
   "execution_count": 44,
   "metadata": {},
   "outputs": [],
   "source": [
    "only_2_persons = list(filter(lambda x: len(set(x['from_id'])) == 2, post_result))"
   ]
  },
  {
   "cell_type": "code",
   "execution_count": 51,
   "metadata": {},
   "outputs": [],
   "source": [
    "import scripts.dialogs_to_json as d2j"
   ]
  },
  {
   "cell_type": "code",
   "execution_count": 52,
   "metadata": {
    "scrolled": true
   },
   "outputs": [],
   "source": [
    "seriz = d2j.dump_dialogs(only_2_persons,\n",
    "                              \"./filtered_users/21.02.19-12:08_girl.json\",\n",
    "                              \"./filtered_users/21.02.19-12:08_pop.json\",\n",
    "                              source_posts)"
   ]
  },
  {
   "cell_type": "code",
   "execution_count": 53,
   "metadata": {},
   "outputs": [
    {
     "data": {
      "text/plain": [
       "{'post_id': 244,\n",
       " 'wall_owner_id': 1595309,\n",
       " 'post_num_comments': 20,\n",
       " 'post_text': '[id148888304|Елена Куликова]  [id263634|Мари Фомченко]  [id10656177|Ирина Мурсалимова]  [id139142982|Вероника Баглаева]  [id1424187|Алина Оганессян]  [id7067417|Света Антонова]  [id22484451|Татьяна Козлова]  [id1850347|Юлия Царёва] [id148888304|Елена Куликова]',\n",
       " 'post_date': 1542727649,\n",
       " 'dialog': [{'replica': {'comment_id': 245,\n",
       "    'text': 'Спасибо!!! Даже не верится... так давно это было)',\n",
       "    'date': 1542727975,\n",
       "    'mess_from_id': 1424187,\n",
       "    'reply_to_user': None,\n",
       "    'type_author': 'other',\n",
       "    'idx_speaker': 0}},\n",
       "  {'replica': {'comment_id': 246,\n",
       "    'text': '[id1424187|Алина], я тут на эти фотки наткнулась и не смогла удержаться.',\n",
       "    'date': 1542728259,\n",
       "    'mess_from_id': 1595309,\n",
       "    'reply_to_user': None,\n",
       "    'type_author': 'girl',\n",
       "    'idx_speaker': 1}},\n",
       "  {'replica': {'comment_id': 247,\n",
       "    'text': '[id1424187|Алина], вообще-то я думала Вы меня прибьете.😜',\n",
       "    'date': 1542728358,\n",
       "    'mess_from_id': 1595309,\n",
       "    'reply_to_user': None,\n",
       "    'type_author': 'girl',\n",
       "    'idx_speaker': 1}}],\n",
       " 'dialog_theme': '#####',\n",
       " 'dialog_eval': '#####'}"
      ]
     },
     "execution_count": 53,
     "metadata": {},
     "output_type": "execute_result"
    }
   ],
   "source": [
    "seriz[0]"
   ]
  },
  {
   "cell_type": "code",
   "execution_count": 58,
   "metadata": {},
   "outputs": [],
   "source": [
    "import codecs\n",
    "import json\n",
    "\n",
    "with codecs.open('./result_json/dialogs_post_processed_27032019_1800.json', 'w', encoding='utf-8') as f:\n",
    "    json.dump(seriz, f, ensure_ascii=False, indent=4)"
   ]
  },
  {
   "cell_type": "code",
   "execution_count": null,
   "metadata": {},
   "outputs": [],
   "source": []
  }
 ],
 "metadata": {
  "kernelspec": {
   "display_name": "Python 3",
   "language": "python",
   "name": "python3"
  },
  "language_info": {
   "codemirror_mode": {
    "name": "ipython",
    "version": 3
   },
   "file_extension": ".py",
   "mimetype": "text/x-python",
   "name": "python",
   "nbconvert_exporter": "python",
   "pygments_lexer": "ipython3",
   "version": "3.6.7"
  }
 },
 "nbformat": 4,
 "nbformat_minor": 2
}
