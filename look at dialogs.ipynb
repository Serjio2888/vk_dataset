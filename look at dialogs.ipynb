{
 "cells": [
  {
   "cell_type": "code",
   "execution_count": 1,
   "metadata": {},
   "outputs": [],
   "source": [
    "import json"
   ]
  },
  {
   "cell_type": "code",
   "execution_count": 2,
   "metadata": {},
   "outputs": [],
   "source": [
    "data = json.load(open('./result_json/14.03.19-14:16.json'))"
   ]
  },
  {
   "cell_type": "code",
   "execution_count": 3,
   "metadata": {},
   "outputs": [
    {
     "data": {
      "text/plain": [
       "{'post_id': 155,\n",
       " 'owner_id': 1125938,\n",
       " 'dialog_id': '140319_0',\n",
       " 'post_text': 'не упади со скалы!',\n",
       " 'post_num_comments': 0,\n",
       " 'persona_id': 1595309,\n",
       " 'other_id': 421994787,\n",
       " 'dialog': [{'persona_type': 'other', 'num_answers': 0, 'text': '🙀 👀\\n'},\n",
       "  {'persona_type': 'persona',\n",
       "   'num_answers': 0,\n",
       "   'text': '[id1424187|Алина], я тут на эти фотки наткнулась и не смогла удержаться.'},\n",
       "  {'persona_type': 'persona',\n",
       "   'num_answers': 0,\n",
       "   'text': '[id1424187|Алина], вообще-то я думала Вы меня прибьете.😜'}]}"
      ]
     },
     "execution_count": 3,
     "metadata": {},
     "output_type": "execute_result"
    }
   ],
   "source": [
    "data[0]"
   ]
  },
  {
   "cell_type": "code",
   "execution_count": 4,
   "metadata": {},
   "outputs": [],
   "source": [
    "import pandas as pd"
   ]
  },
  {
   "cell_type": "code",
   "execution_count": 5,
   "metadata": {},
   "outputs": [],
   "source": [
    "    FILE_NAME = \"14.03.19-14:16\"\n",
    "    source_comments = pd.read_csv(f'./wall/girl_wall/comments/{FILE_NAME}.csv', index_col=0)\n",
    "    source_answers = pd.read_csv(f'./wall/girl_wall/answers/{FILE_NAME}.csv', index_col=0)\n",
    "    source_posts = pd.read_csv(f'./wall/girl_wall/posts/{FILE_NAME}.csv', index_col=0)\n",
    "    source_answers = source_answers.loc[:, ~source_answers.columns.str.contains('^Unnamed')]\n",
    "    source_comments = source_comments.loc[:, ~source_comments.columns.str.contains('^Unnamed')]\n",
    "    source_posts = source_posts.loc[:, ~source_posts.columns.str.contains('^Unnamed')]\n",
    "    source_comments.replace({pd.np.NaN: None}, inplace=True)\n",
    "    source_answers.replace({pd.np.NaN: None}, inplace=True)\n",
    "    source_posts.replace({pd.np.NaN: None}, inplace=True)\n",
    "    source_comments.drop_duplicates(inplace=True)\n",
    "    source_answers.drop_duplicates(inplace=True)\n",
    "    source_posts.drop_duplicates(inplace=True)\n",
    "    source_comments.sort_values(by=['post_id', 'owner_id', 'date'], inplace=True)\n",
    "    source_answers.sort_values(by=['post_id', 'owner_id', 'date'], inplace=True)"
   ]
  },
  {
   "cell_type": "code",
   "execution_count": 6,
   "metadata": {},
   "outputs": [],
   "source": [
    "import scripts.wall_to_json as t"
   ]
  },
  {
   "cell_type": "code",
   "execution_count": 7,
   "metadata": {},
   "outputs": [],
   "source": [
    "result = t.get_dialogs_from_answers(source_answers, source_comments, None)"
   ]
  },
  {
   "cell_type": "code",
   "execution_count": 8,
   "metadata": {},
   "outputs": [],
   "source": [
    "with open('./result.txt', 'w') as f:\n",
    "    for num, dialog in enumerate(result):\n",
    "        f.write(str(num)+\" \"+'\\n')\n",
    "        for _, row in pd.concat(dialog).iterrows():\n",
    "            f.write(str(row['text'])+'\\n')\n",
    "        f.write('\\n')"
   ]
  },
  {
   "cell_type": "code",
   "execution_count": 16,
   "metadata": {},
   "outputs": [
    {
     "data": {
      "text/html": [
       "<div>\n",
       "<style scoped>\n",
       "    .dataframe tbody tr th:only-of-type {\n",
       "        vertical-align: middle;\n",
       "    }\n",
       "\n",
       "    .dataframe tbody tr th {\n",
       "        vertical-align: top;\n",
       "    }\n",
       "\n",
       "    .dataframe thead th {\n",
       "        text-align: right;\n",
       "    }\n",
       "</style>\n",
       "<table border=\"1\" class=\"dataframe\">\n",
       "  <thead>\n",
       "    <tr style=\"text-align: right;\">\n",
       "      <th></th>\n",
       "      <th>comment_id</th>\n",
       "      <th>date</th>\n",
       "      <th>from_id</th>\n",
       "      <th>num_answer</th>\n",
       "      <th>owner_id</th>\n",
       "      <th>parents_stack</th>\n",
       "      <th>post_id</th>\n",
       "      <th>reply_to_comment</th>\n",
       "      <th>reply_to_user</th>\n",
       "      <th>text</th>\n",
       "    </tr>\n",
       "  </thead>\n",
       "  <tbody>\n",
       "    <tr>\n",
       "      <th>81048</th>\n",
       "      <td>1298</td>\n",
       "      <td>1549222585</td>\n",
       "      <td>92490</td>\n",
       "      <td>7</td>\n",
       "      <td>5040411</td>\n",
       "      <td>[]</td>\n",
       "      <td>1297</td>\n",
       "      <td>None</td>\n",
       "      <td>None</td>\n",
       "      <td>А куда дальше передаётся Тетра-пак? Кто его пе...</td>\n",
       "    </tr>\n",
       "    <tr>\n",
       "      <th>2546</th>\n",
       "      <td>1299</td>\n",
       "      <td>1549224023</td>\n",
       "      <td>5040411</td>\n",
       "      <td>0</td>\n",
       "      <td>5040411</td>\n",
       "      <td>[1298]</td>\n",
       "      <td>1297</td>\n",
       "      <td>None</td>\n",
       "      <td>None</td>\n",
       "      <td>[id92490|Виктория], Я всего лишь волонтёр. Дум...</td>\n",
       "    </tr>\n",
       "    <tr>\n",
       "      <th>2547</th>\n",
       "      <td>1300</td>\n",
       "      <td>1549224104</td>\n",
       "      <td>92490</td>\n",
       "      <td>0</td>\n",
       "      <td>5040411</td>\n",
       "      <td>[1298]</td>\n",
       "      <td>1297</td>\n",
       "      <td>None</td>\n",
       "      <td>None</td>\n",
       "      <td>Спасибо за ответ! Собираю информацию, так как ...</td>\n",
       "    </tr>\n",
       "    <tr>\n",
       "      <th>2548</th>\n",
       "      <td>1301</td>\n",
       "      <td>1549224191</td>\n",
       "      <td>5040411</td>\n",
       "      <td>0</td>\n",
       "      <td>5040411</td>\n",
       "      <td>[1298]</td>\n",
       "      <td>1297</td>\n",
       "      <td>None</td>\n",
       "      <td>None</td>\n",
       "      <td>[id92490|Виктория], я думаю тут ошибка. Перера...</td>\n",
       "    </tr>\n",
       "    <tr>\n",
       "      <th>2549</th>\n",
       "      <td>1302</td>\n",
       "      <td>1549224450</td>\n",
       "      <td>5040411</td>\n",
       "      <td>0</td>\n",
       "      <td>5040411</td>\n",
       "      <td>[1298]</td>\n",
       "      <td>1297</td>\n",
       "      <td>1300</td>\n",
       "      <td>92490</td>\n",
       "      <td>[id92490|Виктория],</td>\n",
       "    </tr>\n",
       "    <tr>\n",
       "      <th>2550</th>\n",
       "      <td>1303</td>\n",
       "      <td>1549224464</td>\n",
       "      <td>92490</td>\n",
       "      <td>0</td>\n",
       "      <td>5040411</td>\n",
       "      <td>[1298]</td>\n",
       "      <td>1297</td>\n",
       "      <td>1301</td>\n",
       "      <td>5.04041e+06</td>\n",
       "      <td>[id5040411|Полина], если бы! Это не просто ком...</td>\n",
       "    </tr>\n",
       "    <tr>\n",
       "      <th>2551</th>\n",
       "      <td>1304</td>\n",
       "      <td>1549224778</td>\n",
       "      <td>5040411</td>\n",
       "      <td>0</td>\n",
       "      <td>5040411</td>\n",
       "      <td>[1298]</td>\n",
       "      <td>1297</td>\n",
       "      <td>1303</td>\n",
       "      <td>92490</td>\n",
       "      <td>[id92490|Виктория], дело в том, что для  беспр...</td>\n",
       "    </tr>\n",
       "    <tr>\n",
       "      <th>2552</th>\n",
       "      <td>1305</td>\n",
       "      <td>1549225223</td>\n",
       "      <td>92490</td>\n",
       "      <td>0</td>\n",
       "      <td>5040411</td>\n",
       "      <td>[1298]</td>\n",
       "      <td>1297</td>\n",
       "      <td>None</td>\n",
       "      <td>None</td>\n",
       "      <td>Спасибо:) буду ждать!</td>\n",
       "    </tr>\n",
       "  </tbody>\n",
       "</table>\n",
       "</div>"
      ],
      "text/plain": [
       "       comment_id        date  from_id  num_answer  owner_id parents_stack  \\\n",
       "81048        1298  1549222585    92490           7   5040411            []   \n",
       "2546         1299  1549224023  5040411           0   5040411        [1298]   \n",
       "2547         1300  1549224104    92490           0   5040411        [1298]   \n",
       "2548         1301  1549224191  5040411           0   5040411        [1298]   \n",
       "2549         1302  1549224450  5040411           0   5040411        [1298]   \n",
       "2550         1303  1549224464    92490           0   5040411        [1298]   \n",
       "2551         1304  1549224778  5040411           0   5040411        [1298]   \n",
       "2552         1305  1549225223    92490           0   5040411        [1298]   \n",
       "\n",
       "       post_id reply_to_comment reply_to_user  \\\n",
       "81048     1297             None          None   \n",
       "2546      1297             None          None   \n",
       "2547      1297             None          None   \n",
       "2548      1297             None          None   \n",
       "2549      1297             1300         92490   \n",
       "2550      1297             1301   5.04041e+06   \n",
       "2551      1297             1303         92490   \n",
       "2552      1297             None          None   \n",
       "\n",
       "                                                    text  \n",
       "81048  А куда дальше передаётся Тетра-пак? Кто его пе...  \n",
       "2546   [id92490|Виктория], Я всего лишь волонтёр. Дум...  \n",
       "2547   Спасибо за ответ! Собираю информацию, так как ...  \n",
       "2548   [id92490|Виктория], я думаю тут ошибка. Перера...  \n",
       "2549                                 [id92490|Виктория],  \n",
       "2550   [id5040411|Полина], если бы! Это не просто ком...  \n",
       "2551   [id92490|Виктория], дело в том, что для  беспр...  \n",
       "2552                               Спасибо:) буду ждать!  "
      ]
     },
     "execution_count": 16,
     "metadata": {},
     "output_type": "execute_result"
    }
   ],
   "source": [
    "pd.concat(result[179])"
   ]
  },
  {
   "cell_type": "code",
   "execution_count": 106,
   "metadata": {},
   "outputs": [
    {
     "data": {
      "text/plain": [
       "'Tue Nov 20 18:32:55 2018'"
      ]
     },
     "execution_count": 106,
     "metadata": {},
     "output_type": "execute_result"
    }
   ],
   "source": [
    "import time\n",
    "time.ctime(1542727975)"
   ]
  },
  {
   "cell_type": "code",
   "execution_count": 28,
   "metadata": {
    "scrolled": true
   },
   "outputs": [
    {
     "data": {
      "text/html": [
       "<div>\n",
       "<style scoped>\n",
       "    .dataframe tbody tr th:only-of-type {\n",
       "        vertical-align: middle;\n",
       "    }\n",
       "\n",
       "    .dataframe tbody tr th {\n",
       "        vertical-align: top;\n",
       "    }\n",
       "\n",
       "    .dataframe thead th {\n",
       "        text-align: right;\n",
       "    }\n",
       "</style>\n",
       "<table border=\"1\" class=\"dataframe\">\n",
       "  <thead>\n",
       "    <tr style=\"text-align: right;\">\n",
       "      <th></th>\n",
       "      <th>comment_id</th>\n",
       "      <th>date</th>\n",
       "      <th>from_id</th>\n",
       "      <th>num_answer</th>\n",
       "      <th>owner_id</th>\n",
       "      <th>parents_stack</th>\n",
       "      <th>post_id</th>\n",
       "      <th>reply_to_comment</th>\n",
       "      <th>reply_to_user</th>\n",
       "      <th>text</th>\n",
       "    </tr>\n",
       "  </thead>\n",
       "  <tbody>\n",
       "    <tr>\n",
       "      <th>24608</th>\n",
       "      <td>245</td>\n",
       "      <td>1542727975</td>\n",
       "      <td>1424187</td>\n",
       "      <td>2</td>\n",
       "      <td>1595309</td>\n",
       "      <td>[]</td>\n",
       "      <td>244</td>\n",
       "      <td>None</td>\n",
       "      <td>None</td>\n",
       "      <td>Спасибо!!! Даже не верится... так давно это было)</td>\n",
       "    </tr>\n",
       "    <tr>\n",
       "      <th>310</th>\n",
       "      <td>246</td>\n",
       "      <td>1542728259</td>\n",
       "      <td>1595309</td>\n",
       "      <td>0</td>\n",
       "      <td>1595309</td>\n",
       "      <td>[245]</td>\n",
       "      <td>244</td>\n",
       "      <td>None</td>\n",
       "      <td>None</td>\n",
       "      <td>[id1424187|Алина], я тут на эти фотки наткнула...</td>\n",
       "    </tr>\n",
       "    <tr>\n",
       "      <th>0</th>\n",
       "      <td>247</td>\n",
       "      <td>1542728358</td>\n",
       "      <td>1595309</td>\n",
       "      <td>0</td>\n",
       "      <td>1595309</td>\n",
       "      <td>[245]</td>\n",
       "      <td>244</td>\n",
       "      <td>None</td>\n",
       "      <td>None</td>\n",
       "      <td>[id1424187|Алина], вообще-то я думала Вы меня ...</td>\n",
       "    </tr>\n",
       "  </tbody>\n",
       "</table>\n",
       "</div>"
      ],
      "text/plain": [
       "       comment_id        date  from_id  num_answer  owner_id parents_stack  \\\n",
       "24608         245  1542727975  1424187           2   1595309            []   \n",
       "310           246  1542728259  1595309           0   1595309         [245]   \n",
       "0             247  1542728358  1595309           0   1595309         [245]   \n",
       "\n",
       "       post_id reply_to_comment reply_to_user  \\\n",
       "24608      244             None          None   \n",
       "310        244             None          None   \n",
       "0          244             None          None   \n",
       "\n",
       "                                                    text  \n",
       "24608  Спасибо!!! Даже не верится... так давно это было)  \n",
       "310    [id1424187|Алина], я тут на эти фотки наткнула...  \n",
       "0      [id1424187|Алина], вообще-то я думала Вы меня ...  "
      ]
     },
     "execution_count": 28,
     "metadata": {},
     "output_type": "execute_result"
    }
   ],
   "source": [
    "result[0]"
   ]
  },
  {
   "cell_type": "code",
   "execution_count": 29,
   "metadata": {
    "scrolled": true
   },
   "outputs": [
    {
     "ename": "TypeError",
     "evalue": "first argument must be an iterable of pandas objects, you passed an object of type \"DataFrame\"",
     "output_type": "error",
     "traceback": [
      "\u001b[0;31m---------------------------------------------------------------------------\u001b[0m",
      "\u001b[0;31mTypeError\u001b[0m                                 Traceback (most recent call last)",
      "\u001b[0;32m<ipython-input-29-ad87169b3a53>\u001b[0m in \u001b[0;36m<module>\u001b[0;34m\u001b[0m\n\u001b[0;32m----> 1\u001b[0;31m \u001b[0mresult\u001b[0m \u001b[0;34m=\u001b[0m \u001b[0mlist\u001b[0m\u001b[0;34m(\u001b[0m\u001b[0mmap\u001b[0m\u001b[0;34m(\u001b[0m\u001b[0mpd\u001b[0m\u001b[0;34m.\u001b[0m\u001b[0mconcat\u001b[0m\u001b[0;34m,\u001b[0m \u001b[0mresult\u001b[0m\u001b[0;34m)\u001b[0m\u001b[0;34m)\u001b[0m\u001b[0;34m\u001b[0m\u001b[0;34m\u001b[0m\u001b[0m\n\u001b[0m",
      "\u001b[0;32m~/anaconda3/envs/vk_dataset/lib/python3.6/site-packages/pandas/core/reshape/concat.py\u001b[0m in \u001b[0;36mconcat\u001b[0;34m(objs, axis, join, join_axes, ignore_index, keys, levels, names, verify_integrity, sort, copy)\u001b[0m\n\u001b[1;32m    226\u001b[0m                        \u001b[0mkeys\u001b[0m\u001b[0;34m=\u001b[0m\u001b[0mkeys\u001b[0m\u001b[0;34m,\u001b[0m \u001b[0mlevels\u001b[0m\u001b[0;34m=\u001b[0m\u001b[0mlevels\u001b[0m\u001b[0;34m,\u001b[0m \u001b[0mnames\u001b[0m\u001b[0;34m=\u001b[0m\u001b[0mnames\u001b[0m\u001b[0;34m,\u001b[0m\u001b[0;34m\u001b[0m\u001b[0;34m\u001b[0m\u001b[0m\n\u001b[1;32m    227\u001b[0m                        \u001b[0mverify_integrity\u001b[0m\u001b[0;34m=\u001b[0m\u001b[0mverify_integrity\u001b[0m\u001b[0;34m,\u001b[0m\u001b[0;34m\u001b[0m\u001b[0;34m\u001b[0m\u001b[0m\n\u001b[0;32m--> 228\u001b[0;31m                        copy=copy, sort=sort)\n\u001b[0m\u001b[1;32m    229\u001b[0m     \u001b[0;32mreturn\u001b[0m \u001b[0mop\u001b[0m\u001b[0;34m.\u001b[0m\u001b[0mget_result\u001b[0m\u001b[0;34m(\u001b[0m\u001b[0;34m)\u001b[0m\u001b[0;34m\u001b[0m\u001b[0;34m\u001b[0m\u001b[0m\n\u001b[1;32m    230\u001b[0m \u001b[0;34m\u001b[0m\u001b[0m\n",
      "\u001b[0;32m~/anaconda3/envs/vk_dataset/lib/python3.6/site-packages/pandas/core/reshape/concat.py\u001b[0m in \u001b[0;36m__init__\u001b[0;34m(self, objs, axis, join, join_axes, keys, levels, names, ignore_index, verify_integrity, copy, sort)\u001b[0m\n\u001b[1;32m    242\u001b[0m             raise TypeError('first argument must be an iterable of pandas '\n\u001b[1;32m    243\u001b[0m                             \u001b[0;34m'objects, you passed an object of type '\u001b[0m\u001b[0;34m\u001b[0m\u001b[0;34m\u001b[0m\u001b[0m\n\u001b[0;32m--> 244\u001b[0;31m                             '\"{name}\"'.format(name=type(objs).__name__))\n\u001b[0m\u001b[1;32m    245\u001b[0m \u001b[0;34m\u001b[0m\u001b[0m\n\u001b[1;32m    246\u001b[0m         \u001b[0;32mif\u001b[0m \u001b[0mjoin\u001b[0m \u001b[0;34m==\u001b[0m \u001b[0;34m'outer'\u001b[0m\u001b[0;34m:\u001b[0m\u001b[0;34m\u001b[0m\u001b[0;34m\u001b[0m\u001b[0m\n",
      "\u001b[0;31mTypeError\u001b[0m: first argument must be an iterable of pandas objects, you passed an object of type \"DataFrame\""
     ]
    }
   ],
   "source": [
    "result = list(map(pd.concat, result))"
   ]
  },
  {
   "cell_type": "code",
   "execution_count": 86,
   "metadata": {},
   "outputs": [],
   "source": [
    "def remove_unnecessary_info(table):\n",
    "    table = table.reset_index(drop=True)\n",
    "    table = table[['comment_id', 'date', 'from_id',\\\n",
    "                   'num_answer', 'owner_id', 'parents_stack',\\\n",
    "                   'post_id', 'text']]\n",
    "    return table\n",
    "\n",
    "result_dialogs = []\n",
    "acc = [result[0]]\n",
    "for dialog in result[1:]:\n",
    "    tail = acc[-1].tail(1)\n",
    "    tail = remove_unnecessary_info(tail)\n",
    "    head = dialog.head(1)\n",
    "    head = remove_unnecessary_info(head)\n",
    "    if (tail == head).all(axis=1).item():\n",
    "        acc.append(dialog)\n",
    "    else:\n",
    "        completed_dialog = pd.concat(acc)\n",
    "        completed_dialog = completed_dialog.drop_duplicates()\n",
    "        result_dialogs.append(completed_dialog)\n",
    "        acc = [dialog]"
   ]
  },
  {
   "cell_type": "code",
   "execution_count": 87,
   "metadata": {},
   "outputs": [
    {
     "data": {
      "text/html": [
       "<div>\n",
       "<style scoped>\n",
       "    .dataframe tbody tr th:only-of-type {\n",
       "        vertical-align: middle;\n",
       "    }\n",
       "\n",
       "    .dataframe tbody tr th {\n",
       "        vertical-align: top;\n",
       "    }\n",
       "\n",
       "    .dataframe thead th {\n",
       "        text-align: right;\n",
       "    }\n",
       "</style>\n",
       "<table border=\"1\" class=\"dataframe\">\n",
       "  <thead>\n",
       "    <tr style=\"text-align: right;\">\n",
       "      <th></th>\n",
       "      <th>comment_id</th>\n",
       "      <th>date</th>\n",
       "      <th>from_id</th>\n",
       "      <th>num_answer</th>\n",
       "      <th>owner_id</th>\n",
       "      <th>parents_stack</th>\n",
       "      <th>post_id</th>\n",
       "      <th>reply_to_comment</th>\n",
       "      <th>reply_to_user</th>\n",
       "      <th>text</th>\n",
       "    </tr>\n",
       "  </thead>\n",
       "  <tbody>\n",
       "    <tr>\n",
       "      <th>0</th>\n",
       "      <td>606</td>\n",
       "      <td>1549643234</td>\n",
       "      <td>155880665</td>\n",
       "      <td>3</td>\n",
       "      <td>2244699</td>\n",
       "      <td>[]</td>\n",
       "      <td>605</td>\n",
       "      <td>None</td>\n",
       "      <td>None</td>\n",
       "      <td>Поздравляю Юру 🎊🎊🎊🎊такой красивый пес🐶, пережи...</td>\n",
       "    </tr>\n",
       "    <tr>\n",
       "      <th>0</th>\n",
       "      <td>608</td>\n",
       "      <td>1549646128</td>\n",
       "      <td>21753144</td>\n",
       "      <td>0</td>\n",
       "      <td>2244699</td>\n",
       "      <td>[606]</td>\n",
       "      <td>605</td>\n",
       "      <td>None</td>\n",
       "      <td>None</td>\n",
       "      <td>Вот это новости!!!!! Супер!!! Очень рада Натал...</td>\n",
       "    </tr>\n",
       "    <tr>\n",
       "      <th>0</th>\n",
       "      <td>609</td>\n",
       "      <td>1549646209</td>\n",
       "      <td>2244699</td>\n",
       "      <td>0</td>\n",
       "      <td>2244699</td>\n",
       "      <td>[606]</td>\n",
       "      <td>605</td>\n",
       "      <td>608</td>\n",
       "      <td>2.17531e+07</td>\n",
       "      <td>[id21753144|Юлия], спасибо)) 🤗🥰 А я то как рад...</td>\n",
       "    </tr>\n",
       "  </tbody>\n",
       "</table>\n",
       "</div>"
      ],
      "text/plain": [
       "   comment_id        date    from_id  num_answer  owner_id parents_stack  \\\n",
       "0         606  1549643234  155880665           3   2244699            []   \n",
       "0         608  1549646128   21753144           0   2244699         [606]   \n",
       "0         609  1549646209    2244699           0   2244699         [606]   \n",
       "\n",
       "   post_id reply_to_comment reply_to_user  \\\n",
       "0      605             None          None   \n",
       "0      605             None          None   \n",
       "0      605              608   2.17531e+07   \n",
       "\n",
       "                                                text  \n",
       "0  Поздравляю Юру 🎊🎊🎊🎊такой красивый пес🐶, пережи...  \n",
       "0  Вот это новости!!!!! Супер!!! Очень рада Натал...  \n",
       "0  [id21753144|Юлия], спасибо)) 🤗🥰 А я то как рад...  "
      ]
     },
     "execution_count": 87,
     "metadata": {},
     "output_type": "execute_result"
    }
   ],
   "source": [
    "result_dialogs[23]"
   ]
  },
  {
   "cell_type": "code",
   "execution_count": 88,
   "metadata": {},
   "outputs": [
    {
     "data": {
      "text/plain": [
       "{1, 2, 3, 4, 9}"
      ]
     },
     "execution_count": 88,
     "metadata": {},
     "output_type": "execute_result"
    }
   ],
   "source": [
    "set(map(lambda x: len(set(x['from_id'])), result_dialogs))"
   ]
  },
  {
   "cell_type": "code",
   "execution_count": 98,
   "metadata": {},
   "outputs": [],
   "source": [
    "a = list(filter(lambda x: len(set(x['from_id'])) == 4, result_dialogs))"
   ]
  },
  {
   "cell_type": "code",
   "execution_count": 102,
   "metadata": {},
   "outputs": [
    {
     "data": {
      "text/plain": [
       "['[id205007224|Игорь], Есть он и мне очень приятно такое к себе отношение,жаль я не знаю кто это) \\nНу ты,считать можешь что угодно)))',\n",
       " '[id4491403|Юлия], может бывший твой заскучал , не думала об этом ?',\n",
       " '[id225891086|Алексей], Добрый человек прислал, возможно, флаг ему в руки для изгнания тёмных сил.',\n",
       " '[id296145973|Александр], А ты джедай? Все время темные силы гоняешь .😁😁😁',\n",
       " '[id205007224|Игорь], Можно и так сказать, \"гонитель тёмных сил\", до \"истребителя\" ещё расти.']"
      ]
     },
     "execution_count": 102,
     "metadata": {},
     "output_type": "execute_result"
    }
   ],
   "source": [
    "[i['text'] for _, i in a[0].iterrows()]"
   ]
  },
  {
   "cell_type": "code",
   "execution_count": 103,
   "metadata": {},
   "outputs": [
    {
     "data": {
      "text/html": [
       "<div>\n",
       "<style scoped>\n",
       "    .dataframe tbody tr th:only-of-type {\n",
       "        vertical-align: middle;\n",
       "    }\n",
       "\n",
       "    .dataframe tbody tr th {\n",
       "        vertical-align: top;\n",
       "    }\n",
       "\n",
       "    .dataframe thead th {\n",
       "        text-align: right;\n",
       "    }\n",
       "</style>\n",
       "<table border=\"1\" class=\"dataframe\">\n",
       "  <thead>\n",
       "    <tr style=\"text-align: right;\">\n",
       "      <th></th>\n",
       "      <th>comment_id</th>\n",
       "      <th>date</th>\n",
       "      <th>from_id</th>\n",
       "      <th>num_answer</th>\n",
       "      <th>owner_id</th>\n",
       "      <th>parents_stack</th>\n",
       "      <th>post_id</th>\n",
       "      <th>reply_to_comment</th>\n",
       "      <th>reply_to_user</th>\n",
       "      <th>text</th>\n",
       "    </tr>\n",
       "  </thead>\n",
       "  <tbody>\n",
       "    <tr>\n",
       "      <th>0</th>\n",
       "      <td>59571</td>\n",
       "      <td>1540844664</td>\n",
       "      <td>4491403</td>\n",
       "      <td>0</td>\n",
       "      <td>4491403</td>\n",
       "      <td>[59563]</td>\n",
       "      <td>59495</td>\n",
       "      <td>59568</td>\n",
       "      <td>2.05007e+08</td>\n",
       "      <td>[id205007224|Игорь], Есть он и мне очень прият...</td>\n",
       "    </tr>\n",
       "    <tr>\n",
       "      <th>0</th>\n",
       "      <td>59576</td>\n",
       "      <td>1540857176</td>\n",
       "      <td>225891086</td>\n",
       "      <td>0</td>\n",
       "      <td>4491403</td>\n",
       "      <td>[59563]</td>\n",
       "      <td>59495</td>\n",
       "      <td>59571</td>\n",
       "      <td>4.4914e+06</td>\n",
       "      <td>[id4491403|Юлия], может бывший твой заскучал ,...</td>\n",
       "    </tr>\n",
       "    <tr>\n",
       "      <th>0</th>\n",
       "      <td>59577</td>\n",
       "      <td>1540874859</td>\n",
       "      <td>296145973</td>\n",
       "      <td>0</td>\n",
       "      <td>4491403</td>\n",
       "      <td>[59563]</td>\n",
       "      <td>59495</td>\n",
       "      <td>59576</td>\n",
       "      <td>2.25891e+08</td>\n",
       "      <td>[id225891086|Алексей], Добрый человек прислал,...</td>\n",
       "    </tr>\n",
       "    <tr>\n",
       "      <th>1839</th>\n",
       "      <td>59583</td>\n",
       "      <td>1540915520</td>\n",
       "      <td>205007224</td>\n",
       "      <td>0</td>\n",
       "      <td>4491403</td>\n",
       "      <td>[59563]</td>\n",
       "      <td>59495</td>\n",
       "      <td>59577</td>\n",
       "      <td>2.96146e+08</td>\n",
       "      <td>[id296145973|Александр], А ты джедай? Все врем...</td>\n",
       "    </tr>\n",
       "    <tr>\n",
       "      <th>0</th>\n",
       "      <td>59586</td>\n",
       "      <td>1540916201</td>\n",
       "      <td>296145973</td>\n",
       "      <td>0</td>\n",
       "      <td>4491403</td>\n",
       "      <td>[59563]</td>\n",
       "      <td>59495</td>\n",
       "      <td>59583</td>\n",
       "      <td>2.05007e+08</td>\n",
       "      <td>[id205007224|Игорь], Можно и так сказать, \"гон...</td>\n",
       "    </tr>\n",
       "  </tbody>\n",
       "</table>\n",
       "</div>"
      ],
      "text/plain": [
       "      comment_id        date    from_id  num_answer  owner_id parents_stack  \\\n",
       "0          59571  1540844664    4491403           0   4491403       [59563]   \n",
       "0          59576  1540857176  225891086           0   4491403       [59563]   \n",
       "0          59577  1540874859  296145973           0   4491403       [59563]   \n",
       "1839       59583  1540915520  205007224           0   4491403       [59563]   \n",
       "0          59586  1540916201  296145973           0   4491403       [59563]   \n",
       "\n",
       "      post_id reply_to_comment reply_to_user  \\\n",
       "0       59495            59568   2.05007e+08   \n",
       "0       59495            59571    4.4914e+06   \n",
       "0       59495            59576   2.25891e+08   \n",
       "1839    59495            59577   2.96146e+08   \n",
       "0       59495            59583   2.05007e+08   \n",
       "\n",
       "                                                   text  \n",
       "0     [id205007224|Игорь], Есть он и мне очень прият...  \n",
       "0     [id4491403|Юлия], может бывший твой заскучал ,...  \n",
       "0     [id225891086|Алексей], Добрый человек прислал,...  \n",
       "1839  [id296145973|Александр], А ты джедай? Все врем...  \n",
       "0     [id205007224|Игорь], Можно и так сказать, \"гон...  "
      ]
     },
     "execution_count": 103,
     "metadata": {},
     "output_type": "execute_result"
    }
   ],
   "source": [
    "a[0]"
   ]
  },
  {
   "cell_type": "code",
   "execution_count": null,
   "metadata": {},
   "outputs": [],
   "source": []
  }
 ],
 "metadata": {
  "kernelspec": {
   "display_name": "Python 3",
   "language": "python",
   "name": "python3"
  },
  "language_info": {
   "codemirror_mode": {
    "name": "ipython",
    "version": 3
   },
   "file_extension": ".py",
   "mimetype": "text/x-python",
   "name": "python",
   "nbconvert_exporter": "python",
   "pygments_lexer": "ipython3",
   "version": "3.6.7"
  }
 },
 "nbformat": 4,
 "nbformat_minor": 2
}
