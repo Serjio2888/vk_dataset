{
 "cells": [
  {
   "cell_type": "code",
   "execution_count": 10,
   "metadata": {},
   "outputs": [],
   "source": [
    "import json"
   ]
  },
  {
   "cell_type": "code",
   "execution_count": 11,
   "metadata": {},
   "outputs": [],
   "source": [
    "data = json.load(open('./result_json/14.03.19-14:16.json'))"
   ]
  },
  {
   "cell_type": "code",
   "execution_count": 18,
   "metadata": {},
   "outputs": [
    {
     "data": {
      "text/plain": [
       "{'post_id': 52,\n",
       " 'owner_id': 1125938,\n",
       " 'dialog_id': '140319_2',\n",
       " 'post_text': 'такая взрослая на аватаре! я то тебя помню совсем другой! так время летит...',\n",
       " 'post_num_comments': 0,\n",
       " 'persona_id': 1595309,\n",
       " 'other_id': 22039720,\n",
       " 'dialog': [{'persona_type': 'other',\n",
       "   'num_answers': 0,\n",
       "   'text': 'Красивая! И букет хороший!'},\n",
       "  {'persona_type': 'persona',\n",
       "   'num_answers': 0,\n",
       "   'text': '[id139142982|Вероника], я в четверг отвечу. Ок?'}]}"
      ]
     },
     "execution_count": 18,
     "metadata": {},
     "output_type": "execute_result"
    }
   ],
   "source": [
    "data[2]"
   ]
  },
  {
   "cell_type": "code",
   "execution_count": null,
   "metadata": {},
   "outputs": [],
   "source": []
  }
 ],
 "metadata": {
  "kernelspec": {
   "display_name": "Python 3",
   "language": "python",
   "name": "python3"
  },
  "language_info": {
   "codemirror_mode": {
    "name": "ipython",
    "version": 3
   },
   "file_extension": ".py",
   "mimetype": "text/x-python",
   "name": "python",
   "nbconvert_exporter": "python",
   "pygments_lexer": "ipython3",
   "version": "3.6.7"
  }
 },
 "nbformat": 4,
 "nbformat_minor": 2
}
