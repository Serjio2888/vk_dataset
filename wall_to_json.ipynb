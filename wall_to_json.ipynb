{
 "cells": [
  {
   "cell_type": "code",
   "execution_count": 1,
   "metadata": {},
   "outputs": [],
   "source": [
    "import pandas as pd"
   ]
  },
  {
   "cell_type": "code",
   "execution_count": 6,
   "metadata": {},
   "outputs": [],
   "source": [
    "source_comments = pd.read_csv('./wall/girl_wall/comments/21.02.19-12:08_girl.csv', index_col=0)\n",
    "source_answers = pd.read_csv('./wall/girl_wall/answers/21.02.19-12:08_girl.csv', index_col=0)\n",
    "source_posts = pd.read_csv('./wall/girl_wall/posts/21.02.19-12:08_girl.csv', index_col=0)\n",
    "source_comments.replace({pd.np.NaN: None}, inplace=True)\n",
    "source_answers.replace({pd.np.NaN: None}, inplace=True)\n",
    "source_posts.replace({pd.np.NaN: None}, inplace=True)\n",
    "source_comments.sort_values(by=['post_id', 'date'] , inplace=True)\n",
    "source_answers.sort_values(by=['post_id', 'date'] , inplace=True)"
   ]
  },
  {
   "cell_type": "code",
   "execution_count": 10,
   "metadata": {},
   "outputs": [],
   "source": [
    "#base\n",
    "def get_dialogs_from_answers():\n",
    "    from json import JSONDecoder\n",
    "    j = JSONDecoder()\n",
    "    \n",
    "    already_used_id = []\n",
    "    dialogs = []\n",
    "\n",
    "    answers = source_answers.copy()\n",
    "    anchor = answers[list(map(lambda x: x!='[]', answers['parents_stack']))].head(1)\n",
    "    while not anchor.empty:\n",
    "        dialog = []\n",
    "        already_used_id.append(int(anchor['comment_id']))\n",
    "\n",
    "        parent_id = j.decode(answers['parents_stack'].iloc[0])[0]\n",
    "        dialog.append(source_comments[source_comments['comment_id'] == parent_id].head(1))\n",
    "        dialog.append(anchor)\n",
    "\n",
    "        after_anchor = answers[answers['reply_to_comment'] == int(anchor['comment_id'])].head(1)\n",
    "        while not after_anchor.empty:\n",
    "            anchor = after_anchor\n",
    "            already_used_id.append(anchor['comment_id'])\n",
    "            dialog.append(anchor)\n",
    "            after_anchor = answers[answers['reply_to_comment'] == int(anchor['comment_id'])].head(1)\n",
    "\n",
    "        if len(pd.concat(dialog)) > 1:\n",
    "            dialogs.append(pd.concat(dialog))\n",
    "\n",
    "        answers = answers[~answers['comment_id'].isin(already_used_id)]\n",
    "        anchor = answers[list(map(bool, answers['parents_stack']))].head(1)\n",
    "    return dialogs\n",
    "answers_dialogs = get_dialogs_from_answers()"
   ]
  },
  {
   "cell_type": "code",
   "execution_count": 12,
   "metadata": {},
   "outputs": [],
   "source": [
    "def answer_post_processing(dialogs):\n",
    "    res=[]\n",
    "    dialog=[]\n",
    "    dialog.append(dialogs[0])\n",
    "    for cur in dialogs[1:]:\n",
    "        if set(dialog[-1]['from_id']) == set(cur['from_id'])\\\n",
    "            and set(dialog[-1]['post_id']) == set(cur['post_id']):\n",
    "            dialog.append(cur)\n",
    "        else:\n",
    "            if len(dialog) > 1:\n",
    "                head = dialog[0]\n",
    "                tail = pd.concat(dialog[1:])\n",
    "                tail = tail[tail['parents_stack']!='[]']\n",
    "                res.append(pd.concat([head, tail]))\n",
    "            else:\n",
    "                res.append(pd.concat(dialog))\n",
    "            dialog=[cur]\n",
    "    return res\n",
    "proc_answers_dialogs = answer_post_processing(answers_dialogs)"
   ]
  },
  {
   "cell_type": "code",
   "execution_count": 13,
   "metadata": {},
   "outputs": [],
   "source": [
    "def get_dialogs_from_comments():\n",
    "    already_used_id = []\n",
    "    dialogs = []\n",
    "    comments = source_comments.copy()\n",
    "\n",
    "    comments = comments[~comments['comment_id'].isin(already_used_id)]\n",
    "    anchor = comments[list(map(bool, comments['reply_to_comment']))].head(1)\n",
    "    while(not anchor['reply_to_comment'].dropna().empty):\n",
    "        dialog = []\n",
    "        comments = comments[~comments['comment_id'].isin(already_used_id)]\n",
    "        anchor = comments[list(map(bool, comments['reply_to_comment']))].head(1)\n",
    "        already_used_id.append(int(anchor['comment_id']))\n",
    "        first = comments[comments['comment_id'] == int(anchor['reply_to_comment'])].head(1)\n",
    "        dialog.append(first)\n",
    "        dialog.append(anchor)\n",
    "        after_anchor = comments[comments['reply_to_comment'] == int(anchor['comment_id'])].head(1)\n",
    "        filter_user = (comments['from_id'] == int(anchor['reply_to_user']))\\\n",
    "                        | (comments['from_id'] == int(anchor['from_id']))\n",
    "        filter_post = comments['post_id'] == int(anchor['post_id'])\n",
    "        while(not after_anchor.dropna().empty):\n",
    "            anchor = after_anchor\n",
    "            already_used_id.append(int(anchor['comment_id']))\n",
    "            dialog.append(anchor)\n",
    "            filter_reply = comments['reply_to_comment'] == int(anchor['comment_id'])\n",
    "            after_anchor = comments[filter_reply & filter_user & filter_post].head(1)\n",
    "\n",
    "        if len(pd.concat(dialog)) > 1:\n",
    "            dialogs.append(pd.concat(dialog))\n",
    "        comments = comments[~comments['comment_id'].isin(already_used_id)]\n",
    "        anchor = comments[list(map(bool, comments['reply_to_comment']))].head(1)\n",
    "    return dialogs\n",
    "comments_dialogs = get_dialogs_from_comments()"
   ]
  },
  {
   "cell_type": "code",
   "execution_count": 14,
   "metadata": {},
   "outputs": [],
   "source": [
    "def comments_post_processing(dialogs):\n",
    "    res=[]\n",
    "    dialog=[]\n",
    "    dialog.append(dialogs[0])\n",
    "    for cur in dialogs[1:]:\n",
    "        if set(dialog[-1]['from_id']) == set(cur['from_id'])\\\n",
    "            and set(dialog[-1]['post_id']) == set(cur['post_id']):\n",
    "            dialog.append(cur)\n",
    "        else:\n",
    "            res.append(pd.concat(dialog))\n",
    "            dialog=[cur]\n",
    "    return res\n"
   ]
  },
  {
   "cell_type": "code",
   "execution_count": 15,
   "metadata": {},
   "outputs": [],
   "source": [
    "concat_dialogs = proc_answers_dialogs.copy()\n",
    "concat_dialogs.extend(proc_comments_dialogs)"
   ]
  },
  {
   "cell_type": "code",
   "execution_count": 21,
   "metadata": {},
   "outputs": [],
   "source": [
    "def dialogs_to_json(dialogs, path_to_save):\n",
    "    from json import JSONEncoder\n",
    "    \n",
    "    j = JSONEncoder()\n",
    "    all_dialogs = []\n",
    "    persona_id = 0\n",
    "    other_id = 0\n",
    "    \n",
    "    for num, i in enumerate(dialogs):\n",
    "        dialog = []\n",
    "        for _, row in i.iterrows():\n",
    "            if row['from_id']==row['owner_id']:\n",
    "                persona_type = 'persona'\n",
    "                persona_id = int(row['from_id'])\n",
    "            else:\n",
    "                persona_type = 'other'\n",
    "                other_id = int(row['from_id'])\n",
    "            utterance = {\n",
    "                \"persona_type\": persona_type,\n",
    "                \"num_answers\": int(row['num_answer']),\n",
    "                \"text\": row['text']\n",
    "            }\n",
    "            dialog.append(utterance)\n",
    "        \n",
    "        post = source_posts[source_posts['post_id'] == int(i['post_id'].iloc[0])].head(1)\n",
    "        curr_dialog = {\n",
    "            \"dialog_id\": f\"270219_{str(num)}\",\n",
    "            \"post_text\": post['text'].iloc[0],\n",
    "            \"post_num_comments\": int(post['num_comments'].iloc[0]),\n",
    "            \"persona_id\": persona_id,\n",
    "            \"other_id\": other_id,\n",
    "            \"dialog\": dialog\n",
    "        }\n",
    "        all_dialogs.append(curr_dialog)\n",
    "    with open(path_to_save, 'w') as fw:\n",
    "        fw.write(j.encode(all_dialogs))"
   ]
  },
  {
   "cell_type": "code",
   "execution_count": 22,
   "metadata": {},
   "outputs": [],
   "source": [
    "dialogs_to_json(concat_dialogs, './result_json/girl_270219.json')"
   ]
  },
  {
   "cell_type": "code",
   "execution_count": 44,
   "metadata": {},
   "outputs": [],
   "source": [
    "def view_dialog(table):\n",
    "    if len(table) > 1:\n",
    "        res = []\n",
    "        for _, i in table.iterrows():\n",
    "            if i['text']:\n",
    "                res.append(i['text'])\n",
    "            else:\n",
    "                return\n",
    "        return res\n",
    "    \n",
    "with open('./girl_270219.txt', 'w') as fw:\n",
    "    for num, i in enumerate(concat_dialogs):\n",
    "        a = view_dialog(i)\n",
    "        if a:\n",
    "            fw.write('*'*10+'\\n\\n\\n\\n'+str(num)+\"  \"+\"*\"*10+'\\n')\n",
    "            for ln, line in enumerate(a):\n",
    "                fw.write(str(ln)+\" \"+line+'\\n')\n",
    "    fw.write('*'*10+'\\n\\n\\n\\n'+str(num)+\"  \"+\"*\"*10+'\\n')"
   ]
  },
  {
   "cell_type": "code",
   "execution_count": 37,
   "metadata": {},
   "outputs": [],
   "source": [
    "a = pd.DataFrame({'num_utt': list(map(len, concat_dialogs))})"
   ]
  },
  {
   "cell_type": "code",
   "execution_count": 43,
   "metadata": {},
   "outputs": [
    {
     "data": {
      "text/plain": [
       "{2: 4681,\n",
       " 3: 2552,\n",
       " 4: 797,\n",
       " 5: 275,\n",
       " 6: 160,\n",
       " 7: 78,\n",
       " 8: 59,\n",
       " 9: 34,\n",
       " 10: 28,\n",
       " 11: 17,\n",
       " 12: 11,\n",
       " 14: 10,\n",
       " 13: 7,\n",
       " 16: 3,\n",
       " 20: 3,\n",
       " 18: 2,\n",
       " 23: 2,\n",
       " 21: 2,\n",
       " 30: 2,\n",
       " 26: 1,\n",
       " 15: 1,\n",
       " 33: 1,\n",
       " 48: 1,\n",
       " 40: 1,\n",
       " 19: 1}"
      ]
     },
     "execution_count": 43,
     "metadata": {},
     "output_type": "execute_result"
    }
   ],
   "source": [
    "a.stack().value_counts().to_dict()"
   ]
  },
  {
   "cell_type": "code",
   "execution_count": null,
   "metadata": {},
   "outputs": [],
   "source": []
  }
 ],
 "metadata": {
  "kernelspec": {
   "display_name": "Python 3",
   "language": "python",
   "name": "python3"
  },
  "language_info": {
   "codemirror_mode": {
    "name": "ipython",
    "version": 3
   },
   "file_extension": ".py",
   "mimetype": "text/x-python",
   "name": "python",
   "nbconvert_exporter": "python",
   "pygments_lexer": "ipython3",
   "version": "3.7.0"
  }
 },
 "nbformat": 4,
 "nbformat_minor": 2
}
